{
 "cells": [
  {
   "metadata": {
    "collapsed": true
   },
   "cell_type": "markdown",
   "source": [
    "## MNIST Classifier Demo\n",
    "\n",
    "This notebook demonstrates three different approaches to MNIST digit classification:\n",
    "- Random Forest (RF)\n",
    "- Feed-Forward Neural Network (NN)\n",
    "- Convolutional Neural Network (CNN)\n",
    "\n",
    "All models are unified under a single `MnistClassifier` interface."
   ],
   "id": "2d511300735aa553"
  },
  {
   "metadata": {
    "ExecuteTime": {
     "end_time": "2025-10-06T02:24:15.644153Z",
     "start_time": "2025-10-06T02:24:15.630795Z"
    }
   },
   "cell_type": "code",
   "source": [
    "import numpy as np\n",
    "import matplotlib.pyplot as plt\n",
    "import sys\n",
    "import os\n",
    "import torchvision\n",
    "import torchvision.transforms as transforms\n",
    "from sklearn.metrics import accuracy_score, confusion_matrix\n",
    "import seaborn as sns\n",
    "sys.path.append(os.path.join(os.path.dirname(os.getcwd()), 'src'))\n",
    "from mnist_classifier import MnistClassifier"
   ],
   "id": "ff5b0dc5cf8bd3f2",
   "outputs": [],
   "execution_count": 80
  },
  {
   "metadata": {},
   "cell_type": "markdown",
   "source": [
    "### 1. Loading MNIST Dataset\n",
    "\n",
    "We'll use a subset for demonstration purposes to keep training time reasonable."
   ],
   "id": "e60b3ac9602e31d5"
  },
  {
   "metadata": {
    "ExecuteTime": {
     "end_time": "2025-10-06T02:24:54.511771Z",
     "start_time": "2025-10-06T02:24:54.262399Z"
    }
   },
   "cell_type": "code",
   "source": [
    "def load_mnist_data(train_size=5000, test_size=1000):\n",
    "    \"\"\"Load and preprocess MNIST data.\"\"\"\n",
    "    transform = transforms.Compose([transforms.ToTensor()])\n",
    "\n",
    "    train_dataset = torchvision.datasets.MNIST(\n",
    "        root='../data',\n",
    "        train=True,\n",
    "        download=True,\n",
    "        transform=transform\n",
    "    )\n",
    "    test_dataset = torchvision.datasets.MNIST(\n",
    "        root='../data',\n",
    "        train=False,\n",
    "        download=True,\n",
    "        transform=transform\n",
    "    )\n",
    "\n",
    "    X_train = train_dataset.data.numpy()[:train_size] / 255.0\n",
    "    y_train = train_dataset.targets.numpy()[:train_size]\n",
    "    X_test = test_dataset.data.numpy()[:test_size] / 255.0\n",
    "    y_test = test_dataset.targets.numpy()[:test_size]\n",
    "\n",
    "    return X_train, y_train, X_test, y_test\n",
    "\n",
    "X_train, y_train, X_test, y_test = load_mnist_data()\n",
    "\n",
    "print(f\"Training samples: {len(X_train)}\")\n",
    "print(f\"Test samples: {len(X_test)}\")\n",
    "print(f\"Image shape: {X_train[0].shape}\")"
   ],
   "id": "8d2ab9a3bab6abdf",
   "outputs": [
    {
     "name": "stdout",
     "output_type": "stream",
     "text": [
      "Training samples: 5000\n",
      "Test samples: 1000\n",
      "Image shape: (28, 28)\n"
     ]
    }
   ],
   "execution_count": 81
  },
  {
   "metadata": {},
   "cell_type": "markdown",
   "source": "### 2. Sample Images from Dataset",
   "id": "9f58b4477a5d8965"
  },
  {
   "metadata": {
    "ExecuteTime": {
     "end_time": "2025-10-06T02:25:40.804639Z",
     "start_time": "2025-10-06T02:25:36.737409Z"
    }
   },
   "cell_type": "code",
   "source": [
    "fig, axes = plt.subplots(2, 5, figsize=(10, 4))\n",
    "for i, ax in enumerate(axes.flat):\n",
    "    ax.imshow(X_train[i], cmap='gray')\n",
    "    ax.set_title(f\"Label: {y_train[i]}\")\n",
    "    ax.axis('off')\n",
    "plt.tight_layout()\n",
    "plt.show()"
   ],
   "id": "54c665ec2ba301e0",
   "outputs": [
    {
     "data": {
      "text/plain": [
       "<Figure size 1000x400 with 10 Axes>"
      ],
      "image/png": "[encoded data removed]"
     },
     "metadata": {},
     "output_type": "display_data"
    }
   ],
   "execution_count": 82
  },
  {
   "metadata": {},
   "cell_type": "markdown",
   "source": [
    "### 3. Random Forest Classifier\n",
    "\n",
    "Random Forest is a traditional machine learning approach that works with flattened images."
   ],
   "id": "7f6a4ca5ff1c8a8a"
  },
  {
   "metadata": {
    "ExecuteTime": {
     "end_time": "2025-10-06T02:26:37.402245Z",
     "start_time": "2025-10-06T02:26:36.649785Z"
    }
   },
   "cell_type": "code",
   "source": [
    "print(\"------Training Random Forest-----\")\n",
    "rf_classifier = MnistClassifier(algorithm='rf')\n",
    "rf_classifier.train(X_train, y_train)\n",
    "\n",
    "print(\"\\n-------Making predictions------\")\n",
    "rf_predictions = rf_classifier.predict(X_test)\n",
    "rf_accuracy = accuracy_score(y_test, rf_predictions)\n",
    "\n",
    "print(f\"Random Forest Accuracy: {rf_accuracy * 100:.2f}%\")"
   ],
   "id": "e4739dc1056c10e7",
   "outputs": [
    {
     "name": "stdout",
     "output_type": "stream",
     "text": [
      "------Training Random Forest-----\n"
     ]
    },
    {
     "name": "stderr",
     "output_type": "stream",
     "text": [
      "[Parallel(n_jobs=-1)]: Using backend ThreadingBackend with 8 concurrent workers.\n",
      "[Parallel(n_jobs=-1)]: Done  34 tasks      | elapsed:    0.2s\n"
     ]
    },
    {
     "name": "stdout",
     "output_type": "stream",
     "text": [
      "\n",
      "-------Making predictions------\n",
      "Random Forest Accuracy: 93.00%\n"
     ]
    },
    {
     "name": "stderr",
     "output_type": "stream",
     "text": [
      "[Parallel(n_jobs=-1)]: Done 100 out of 100 | elapsed:    0.5s finished\n",
      "[Parallel(n_jobs=8)]: Using backend ThreadingBackend with 8 concurrent workers.\n",
      "[Parallel(n_jobs=8)]: Done  34 tasks      | elapsed:    0.0s\n",
      "[Parallel(n_jobs=8)]: Done 100 out of 100 | elapsed:    0.0s finished\n"
     ]
    }
   ],
   "execution_count": 84
  },
  {
   "metadata": {},
   "cell_type": "markdown",
   "source": [
    "### 4. Feed-Forward Neural Network\n",
    "\n",
    "A simple fully-connected neural network with dropout regularization."
   ],
   "id": "3b662473cf637d99"
  },
  {
   "metadata": {
    "ExecuteTime": {
     "end_time": "2025-10-06T02:27:27.885788Z",
     "start_time": "2025-10-06T02:27:20.643908Z"
    }
   },
   "cell_type": "code",
   "source": [
    "print(\"------Training Feed-Forward Neural Network------\")\n",
    "nn_classifier = MnistClassifier(algorithm='nn')\n",
    "nn_classifier.train(X_train, y_train, epochs=10, batch_size=64)\n",
    "\n",
    "print(\"\\n------Making predictions------\")\n",
    "nn_predictions = nn_classifier.predict(X_test)\n",
    "nn_accuracy = accuracy_score(y_test, nn_predictions)\n",
    "\n",
    "print(f\"Neural Network Accuracy: {nn_accuracy * 100:.2f}%\")"
   ],
   "id": "ca2351e4f3076573",
   "outputs": [
    {
     "name": "stdout",
     "output_type": "stream",
     "text": [
      "------Training Feed-Forward Neural Network------\n",
      "Device: cpu\n",
      "Epoch: 1/10, Loss: 1.0468326988099497, Accuracy: 67.64\n",
      "Epoch: 2/10, Loss: 0.37987178639520575, Accuracy: 88.34\n",
      "Epoch: 3/10, Loss: 0.2623475497187693, Accuracy: 92.24\n",
      "Epoch: 4/10, Loss: 0.19646838547874101, Accuracy: 94.1\n",
      "Epoch: 5/10, Loss: 0.1610415540399808, Accuracy: 95.04\n",
      "Epoch: 6/10, Loss: 0.11926863746293172, Accuracy: 96.68\n",
      "Epoch: 7/10, Loss: 0.10093963030678561, Accuracy: 96.82\n",
      "Epoch: 8/10, Loss: 0.08464107756750493, Accuracy: 97.64\n",
      "Epoch: 9/10, Loss: 0.08021671160513276, Accuracy: 97.56\n",
      "Epoch: 10/10, Loss: 0.07122878680783737, Accuracy: 97.82\n",
      "\n",
      "------Making predictions------\n",
      "Neural Network Accuracy: 92.70%\n"
     ]
    }
   ],
   "execution_count": 85
  },
  {
   "metadata": {},
   "cell_type": "markdown",
   "source": [
    "### 5. Convolutional Neural Network\n",
    "\n",
    "CNN leverages spatial structure of images through convolutional layers."
   ],
   "id": "56177bf55898bc8f"
  },
  {
   "metadata": {
    "ExecuteTime": {
     "end_time": "2025-10-06T02:28:49.303172Z",
     "start_time": "2025-10-06T02:28:09.475945Z"
    }
   },
   "cell_type": "code",
   "source": [
    "print(\"------Training Convolutional Neural Network-----\")\n",
    "cnn_classifier = MnistClassifier(algorithm='cnn')\n",
    "cnn_classifier.train(X_train, y_train, epochs=10, batch_size=64)\n",
    "\n",
    "print(\"\\n-----Making predictions-----\")\n",
    "cnn_predictions = cnn_classifier.predict(X_test)\n",
    "cnn_accuracy = accuracy_score(y_test, cnn_predictions)\n",
    "\n",
    "print(f\"CNN Accuracy: {cnn_accuracy * 100:.2f}%\")"
   ],
   "id": "c23ed6e1acc5d443",
   "outputs": [
    {
     "name": "stdout",
     "output_type": "stream",
     "text": [
      "------Training Convolutional Neural Network-----\n",
      "Device: cpu\n",
      "Epoch: 1/10, Loss: 1.0190289974967135, Accuracy: 66.02\n",
      "Epoch: 2/10, Loss: 0.3242588870321648, Accuracy: 90.96\n",
      "Epoch: 3/10, Loss: 0.2105898940582064, Accuracy: 93.78\n",
      "Epoch: 4/10, Loss: 0.16604769215742243, Accuracy: 95.02\n",
      "Epoch: 5/10, Loss: 0.13393290682778328, Accuracy: 96.02\n",
      "Epoch: 6/10, Loss: 0.11613448390949375, Accuracy: 96.6\n",
      "Epoch: 7/10, Loss: 0.1143877053326821, Accuracy: 96.48\n",
      "Epoch: 8/10, Loss: 0.07095247155712635, Accuracy: 97.84\n",
      "Epoch: 9/10, Loss: 0.07033845942608918, Accuracy: 97.74\n",
      "Epoch: 10/10, Loss: 0.06340204234694756, Accuracy: 97.94\n",
      "\n",
      "-----Making predictions-----\n",
      "CNN Accuracy: 97.50%\n"
     ]
    }
   ],
   "execution_count": 86
  },
  {
   "metadata": {},
   "cell_type": "markdown",
   "source": "### 6. Model Comparison",
   "id": "a4b965b8371c312b"
  },
  {
   "metadata": {
    "ExecuteTime": {
     "end_time": "2025-10-06T02:30:25.153957Z",
     "start_time": "2025-10-06T02:30:24.991946Z"
    }
   },
   "cell_type": "code",
   "source": [
    "results = {\n",
    "    'Random Forest': rf_accuracy,\n",
    "    'Feed-Forward NN': nn_accuracy,\n",
    "    'CNN': cnn_accuracy\n",
    "}\n",
    "\n",
    "plt.figure(figsize=(10, 6))\n",
    "algorithms = list(results.keys())\n",
    "accuracies = [results[alg] * 100 for alg in algorithms]\n",
    "\n",
    "bars = plt.bar(algorithms, accuracies)\n",
    "plt.ylabel('Accuracy', fontsize=10)\n",
    "plt.title('Model Performance Comparison', fontsize=10)\n",
    "plt.ylim(0, 100)\n",
    "\n",
    "for bar in bars:\n",
    "    height = bar.get_height()\n",
    "    plt.text(bar.get_x() + bar.get_width()/2., height,\n",
    "             f'{height:.2f}%',\n",
    "             ha='center', va='bottom', fontsize=11)\n",
    "\n",
    "plt.tight_layout()\n",
    "plt.show()"
   ],
   "id": "d069a1d6bd452146",
   "outputs": [
    {
     "data": {
      "text/plain": [
       "<Figure size 1000x600 with 1 Axes>"
      ],
      "image/png": "[encoded data removed]"
     },
     "metadata": {},
     "output_type": "display_data"
    }
   ],
   "execution_count": 96
  },
  {
   "metadata": {
    "ExecuteTime": {
     "end_time": "2025-10-06T02:29:57.507889Z",
     "start_time": "2025-10-06T02:29:55.895248Z"
    }
   },
   "cell_type": "markdown",
   "source": [
    "### 7. Detailed Analysis - Confusion Matrix\n",
    "\n",
    "Let's examine the CNN's predictions in detail."
   ],
   "id": "416abaef54fc884e"
  },
  {
   "metadata": {
    "ExecuteTime": {
     "end_time": "2025-10-06T02:31:31.584717Z",
     "start_time": "2025-10-06T02:31:31.099467Z"
    }
   },
   "cell_type": "code",
   "source": [
    "cm = confusion_matrix(y_test, cnn_predictions)\n",
    "\n",
    "plt.figure(figsize=(10, 8))\n",
    "sns.heatmap(cm, annot=True, fmt='d', cmap='Blues',\n",
    "            xticklabels=range(10), yticklabels=range(10))\n",
    "plt.title('Confusion Matrix - CNN Classifier', fontsize=14)\n",
    "plt.ylabel('True Label', fontsize=12)\n",
    "plt.xlabel('Predicted Label', fontsize=12)\n",
    "plt.tight_layout()\n",
    "plt.show()"
   ],
   "id": "698e17e55ed8611d",
   "outputs": [
    {
     "data": {
      "text/plain": [
       "<Figure size 1000x800 with 2 Axes>"
      ],
      "image/png": "[encoded data removed]"
     },
     "metadata": {},
     "output_type": "display_data"
    }
   ],
   "execution_count": 98
  },
  {
   "metadata": {},
   "cell_type": "markdown",
   "source": [
    "### 8. Sample Predictions\n",
    "\n",
    "Let's visualize some predictions from the CNN model."
   ],
   "id": "6e638e07531ce33f"
  },
  {
   "metadata": {
    "ExecuteTime": {
     "end_time": "2025-10-06T02:32:30.736082Z",
     "start_time": "2025-10-06T02:32:29.202318Z"
    }
   },
   "cell_type": "code",
   "source": [
    "fig, axes = plt.subplots(2, 5, figsize=(12, 5))\n",
    "indices = np.random.choice(len(X_test), 10, replace=False)\n",
    "\n",
    "for idx, ax in zip(indices, axes.flat):\n",
    "    ax.imshow(X_test[idx], cmap='gray')\n",
    "    pred = cnn_predictions[idx]\n",
    "    true = y_test[idx]\n",
    "    color = 'green' if pred == true else 'red'\n",
    "    ax.set_title(f\"True: {true}, Pred: {pred}\", color=color, fontweight='bold')\n",
    "    ax.axis('off')\n",
    "\n",
    "plt.tight_layout()\n",
    "plt.show()"
   ],
   "id": "22a22cc5182fc2a0",
   "outputs": [
    {
     "data": {
      "text/plain": [
       "<Figure size 1200x500 with 10 Axes>"
      ],
      "image/png": "[encoded data removed]"
     },
     "metadata": {},
     "output_type": "display_data"
    }
   ],
   "execution_count": 99
  },
  {
   "metadata": {},
   "cell_type": "markdown",
   "source": [
    "### 9. Edge Cases and Robustness\n",
    "\n",
    "#### 9.1 Single Sample Prediction"
   ],
   "id": "ffb8f14f234ca43"
  },
  {
   "metadata": {
    "ExecuteTime": {
     "end_time": "2025-10-06T02:33:22.945331Z",
     "start_time": "2025-10-06T02:33:22.936324Z"
    }
   },
   "cell_type": "code",
   "source": [
    "print(\"-----Testing single sample prediction------\")\n",
    "single_sample = X_test[0:1]\n",
    "single_pred = cnn_classifier.predict(single_sample)\n",
    "print(f\"Prediction for single sample: {single_pred}\")\n",
    "print(\"Single sample prediction works correctly\\n\")"
   ],
   "id": "61d132b3b9fc2401",
   "outputs": [
    {
     "name": "stdout",
     "output_type": "stream",
     "text": [
      "-----Testing single sample prediction------\n",
      "Prediction for single sample: tensor([7])\n",
      "Single sample prediction works correctly\n",
      "\n"
     ]
    }
   ],
   "execution_count": 102
  },
  {
   "metadata": {},
   "cell_type": "markdown",
   "source": "#### 9.2 Batch Predictions",
   "id": "684762dc5dca2960"
  },
  {
   "metadata": {
    "ExecuteTime": {
     "end_time": "2025-10-06T02:34:03.026277Z",
     "start_time": "2025-10-06T02:34:02.947430Z"
    }
   },
   "cell_type": "code",
   "source": [
    "print(\"------Testing batch predictions of different sizes-----\")\n",
    "for batch_size in [1, 10, 100]:\n",
    "    batch = X_test[:batch_size]\n",
    "    predictions = cnn_classifier.predict(batch)\n",
    "    print(f\"Batch size {batch_size}: {len(predictions)} predictions\")\n",
    "print(\"Batch predictions work correctly\\n\")"
   ],
   "id": "d0a77223bf9c15f1",
   "outputs": [
    {
     "name": "stdout",
     "output_type": "stream",
     "text": [
      "------Testing batch predictions of different sizes-----\n",
      "Batch size 1: 1 predictions\n",
      "Batch size 10: 10 predictions\n",
      "Batch size 100: 100 predictions\n",
      "Batch predictions work correctly\n",
      "\n"
     ]
    }
   ],
   "execution_count": 103
  },
  {
   "metadata": {},
   "cell_type": "markdown",
   "source": "#### 9.3 Input Format Flexibility",
   "id": "37fc48755c5b260e"
  },
  {
   "metadata": {
    "ExecuteTime": {
     "end_time": "2025-10-06T02:34:54.266154Z",
     "start_time": "2025-10-06T02:34:54.182344Z"
    }
   },
   "cell_type": "code",
   "source": [
    "X_flat = X_test[:10].reshape(10, -1)\n",
    "rf_pred_flat = rf_classifier.predict(X_flat)\n",
    "print(f\"RF handles flattened input: {len(rf_pred_flat)} predictions\")\n",
    "\n",
    "X_2d = X_test[:10]\n",
    "cnn_pred_2d = cnn_classifier.predict(X_2d)\n",
    "print(f\"CNN handles 2D input: {len(cnn_pred_2d)} predictions\\n\")"
   ],
   "id": "e0567936222244d3",
   "outputs": [
    {
     "name": "stdout",
     "output_type": "stream",
     "text": [
      "RF handles flattened input: 10 predictions\n",
      "CNN handles 2D input: 10 predictions\n",
      "\n"
     ]
    },
    {
     "name": "stderr",
     "output_type": "stream",
     "text": [
      "[Parallel(n_jobs=8)]: Using backend ThreadingBackend with 8 concurrent workers.\n",
      "[Parallel(n_jobs=8)]: Done  34 tasks      | elapsed:    0.0s\n",
      "[Parallel(n_jobs=8)]: Done 100 out of 100 | elapsed:    0.0s finished\n"
     ]
    }
   ],
   "execution_count": 104
  },
  {
   "metadata": {},
   "cell_type": "markdown",
   "source": "#### 9.4 Invalid Algorithm Handling",
   "id": "148208e63c7324ed"
  },
  {
   "metadata": {
    "ExecuteTime": {
     "end_time": "2025-10-06T02:35:49.445915Z",
     "start_time": "2025-10-06T02:35:49.419892Z"
    }
   },
   "cell_type": "code",
   "source": [
    "print(\"---------Testing error handling for invalid algorithm---------\")\n",
    "try:\n",
    "    invalid_classifier = MnistClassifier(algorithm='invalid_algo')\n",
    "    print(\"Should have raised ValueError!\")\n",
    "except ValueError as e:\n",
    "    print(f\"Correctly caught error: {e}\\n\")"
   ],
   "id": "61f937d04c964aa2",
   "outputs": [
    {
     "name": "stdout",
     "output_type": "stream",
     "text": [
      "---------Testing error handling for invalid algorithm---------\n",
      "Correctly caught error: Unknown algorithm. Use 'rf', 'nn', or 'cnn'.\n",
      "\n"
     ]
    }
   ],
   "execution_count": 105
  },
  {
   "metadata": {},
   "cell_type": "markdown",
   "source": [
    "### 10. Model Persistence\n",
    "\n",
    "Saving trained models for later use."
   ],
   "id": "b629c828c04f8683"
  },
  {
   "metadata": {
    "ExecuteTime": {
     "end_time": "2025-10-06T02:36:20.645902Z",
     "start_time": "2025-10-06T02:36:20.594983Z"
    }
   },
   "cell_type": "code",
   "source": [
    "print(\"-------Saving models-----\")\n",
    "rf_classifier.save(path='../models/model_rf.pkl', algorithm='rf')\n",
    "nn_classifier.save(path='../models/model_nn.pth', algorithm='nn')\n",
    "cnn_classifier.save(path='../models/model_cnn.pth', algorithm='cnn')\n",
    "print(\"All models saved successfully!\")"
   ],
   "id": "930a5cbdac568f59",
   "outputs": [
    {
     "name": "stdout",
     "output_type": "stream",
     "text": [
      "Saving models...\n",
      "All models saved successfully!\n"
     ]
    }
   ],
   "execution_count": 107
  },
  {
   "metadata": {},
   "cell_type": "markdown",
   "source": [
    "### 11. Summary\n",
    "\n",
    "### Key Findings:\n",
    "1. **CNN** achieved the highest accuracy (~93%)\n",
    "2. **Feed-Forward NN** performed well (~92%)\n",
    "3. **Random Forest** provided baseline performance (~97%)\n",
    "\n",
    "#### Architecture Comparison:\n",
    "\n",
    "| Model | Pros | Cons |\n",
    "|-------|------|------|\n",
    "| Random Forest | Fast training, no GPU needed, interpretable | Lower accuracy, doesn't use spatial info |\n",
    "| Feed-Forward NN | Good balance of speed/accuracy | Doesn't leverage image structure |\n",
    "| CNN | Best accuracy, learns spatial features | Slower training, requires more data |\n",
    "\n",
    "#### Unified Interface Benefits:\n",
    "- Easy to switch between algorithms\n",
    "- Consistent API across all models\n",
    "- Simplified experimentation and comparison"
   ],
   "id": "c4ff35b89c46d63a"
  },
  {
   "metadata": {},
   "cell_type": "code",
   "outputs": [],
   "execution_count": null,
   "source": "",
   "id": "4b2a58c233cf372f"
  }
 ],
 "metadata": {
  "kernelspec": {
   "display_name": "Python 3",
   "language": "python",
   "name": "python3"
  },
  "language_info": {
   "codemirror_mode": {
    "name": "ipython",
    "version": 2
   },
   "file_extension": ".py",
   "mimetype": "text/x-python",
   "name": "python",
   "nbconvert_exporter": "python",
   "pygments_lexer": "ipython2",
   "version": "2.7.6"
  }
 },
 "nbformat": 4,
 "nbformat_minor": 5
}
